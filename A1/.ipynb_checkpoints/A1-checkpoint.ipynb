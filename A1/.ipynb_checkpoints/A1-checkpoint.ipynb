{
 "cells": [
  {
   "cell_type": "code",
   "execution_count": 39,
   "id": "after-challenge",
   "metadata": {},
   "outputs": [],
   "source": [
    "import json\n",
    "import requests"
   ]
  },
  {
   "cell_type": "code",
   "execution_count": 40,
   "id": "legendary-eagle",
   "metadata": {},
   "outputs": [],
   "source": [
    "endpoint_legacy = 'https://wikimedia.org/api/rest_v1/metrics/legacy/pagecounts/aggregate/{project}/{access-site}/{granularity}/{start}/{end}'\n",
    "endpoint_pageviews = 'https://wikimedia.org/api/rest_v1/metrics/pageviews/aggregate/{project}/{access}/{agent}/{granularity}/{start}/{end}'\n"
   ]
  },
  {
   "cell_type": "code",
   "execution_count": 41,
   "id": "individual-sucking",
   "metadata": {},
   "outputs": [],
   "source": [
    "headers = {\n",
    "    'User-Agent': 'https://github.com/kevSweet',\n",
    "    'From': 'ksweet1@uw.edu'\n",
    "}\n",
    "\n",
    "# dump dictionary to file\n",
    "def write_to_json(data, fn):\n",
    "    with open(fn, \"w\") as outfile:\n",
    "        json.dump(data, outfile)\n",
    "        \n",
    "def api_call(endpoint,parameters):\n",
    "    call = requests.get(endpoint.format(**parameters), headers=headers)\n",
    "    response = call.json()\n",
    "    \n",
    "    return response"
   ]
  },
  {
   "cell_type": "code",
   "execution_count": 42,
   "id": "naked-baseline",
   "metadata": {},
   "outputs": [],
   "source": [
    "# see: https://wikimedia.org/api/rest_v1/#!/Pageviews_data/get_metrics_pageviews_aggregate_project_access_agent_granularity_start_end\n",
    "params_legacy = {\"project\" : \"en.wikipedia.org\",\n",
    "                 \"access-site\" : \"desktop-site\",\n",
    "                 \"granularity\" : \"monthly\",\n",
    "                 \"start\" : \"2001010100\",\n",
    "                # for end use 1st day of month following final month of data\n",
    "                 \"end\" : \"2018100100\"\n",
    "                    }\n",
    "\n",
    "# pagecounts dump\n",
    "\n",
    "# desktop\n",
    "monthly_legacy = api_call(endpoint_legacy, params_legacy)\n",
    "legacy_desktopfn = 'pagecounts_desktop-site_200712-201607.json'\n",
    "write_to_json(monthly_legacy, legacy_desktopfn)\n",
    "\n",
    "# mobile\n",
    "params_legacy['access-site'] = \"mobile-site\"\n",
    "monthly_legacy = api_call(endpoint_legacy, params_legacy)\n",
    "legacy_mobilefn = 'pagecounts_mobile-site_200712-201607.json'\n",
    "write_to_json(monthly_legacy, legacy_mobilefn)"
   ]
  },
  {
   "cell_type": "code",
   "execution_count": 43,
   "id": "differential-happening",
   "metadata": {},
   "outputs": [],
   "source": [
    "\n",
    "params_pageviews = {\"project\" : \"en.wikipedia.org\",\n",
    "                    \"access\" : \"desktop\",\n",
    "                    \"agent\" : \"user\",\n",
    "                    \"granularity\" : \"monthly\",\n",
    "                    \"start\" : \"2001010100\",\n",
    "                    # for end use 1st day of month following final month of data\n",
    "                    \"end\" : '2021100100'\n",
    "                        }\n",
    "\n",
    "# pageviews dump\n",
    "\n",
    "# desktop\n",
    "monthly_pageviews = api_call(endpoint_pageviews, params_pageviews)\n",
    "pageviews_desktopfn = 'pageviews_desktop-site_201507-202109.json'\n",
    "write_to_json(monthly_pageviews, pageviews_desktopfn)\n",
    "\n",
    "# mobile app\n",
    "params_pageviews['access'] = \"mobile-app\"\n",
    "monthly_pageviews = api_call(endpoint_pageviews, params_pageviews)\n",
    "pageviews_mobileappfn = 'pageviews_mobile-app_201507-202109.json'\n",
    "write_to_json(monthly_pageviews, pageviews_mobileappfn)\n",
    "\n",
    "# mobile web\n",
    "params_pageviews['access'] = \"mobile-web\"\n",
    "monthly_pageviews = api_call(endpoint_pageviews, params_pageviews)\n",
    "pageviews_mobilewebfn = 'pageviews_mobile-web_201507-202109.json'\n",
    "write_to_json(monthly_pageviews, pageviews_mobilewebfn)"
   ]
  },
  {
   "cell_type": "code",
   "execution_count": null,
   "id": "moving-italic",
   "metadata": {},
   "outputs": [],
   "source": []
  },
  {
   "cell_type": "code",
   "execution_count": null,
   "id": "major-coordinator",
   "metadata": {},
   "outputs": [],
   "source": []
  }
 ],
 "metadata": {
  "kernelspec": {
   "display_name": "Python 3",
   "language": "python",
   "name": "python3"
  },
  "language_info": {
   "codemirror_mode": {
    "name": "ipython",
    "version": 3
   },
   "file_extension": ".py",
   "mimetype": "text/x-python",
   "name": "python",
   "nbconvert_exporter": "python",
   "pygments_lexer": "ipython3",
   "version": "3.9.2"
  }
 },
 "nbformat": 4,
 "nbformat_minor": 5
}
